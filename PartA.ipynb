{
 "cells": [
  {
   "cell_type": "code",
   "execution_count": 1,
   "metadata": {},
   "outputs": [
    {
     "name": "stderr",
     "output_type": "stream",
     "text": [
      "c:\\nlp\\venv\\Lib\\site-packages\\tqdm\\auto.py:21: TqdmWarning: IProgress not found. Please update jupyter and ipywidgets. See https://ipywidgets.readthedocs.io/en/stable/user_install.html\n",
      "  from .autonotebook import tqdm as notebook_tqdm\n"
     ]
    },
    {
     "name": "stdout",
     "output_type": "stream",
     "text": [
      "WARNING:tensorflow:From c:\\nlp\\venv\\Lib\\site-packages\\tf_keras\\src\\losses.py:2976: The name tf.losses.sparse_softmax_cross_entropy is deprecated. Please use tf.compat.v1.losses.sparse_softmax_cross_entropy instead.\n",
      "\n"
     ]
    },
    {
     "name": "stderr",
     "output_type": "stream",
     "text": [
      "[nltk_data] Downloading package punkt to\n",
      "[nltk_data]     C:\\Users\\Admin\\AppData\\Roaming\\nltk_data...\n",
      "[nltk_data]   Package punkt is already up-to-date!\n",
      "[nltk_data] Downloading package stopwords to\n",
      "[nltk_data]     C:\\Users\\Admin\\AppData\\Roaming\\nltk_data...\n",
      "[nltk_data]   Package stopwords is already up-to-date!\n",
      "[nltk_data] Downloading package wordnet to\n",
      "[nltk_data]     C:\\Users\\Admin\\AppData\\Roaming\\nltk_data...\n",
      "[nltk_data]   Package wordnet is already up-to-date!\n",
      "[nltk_data] Downloading package punkt_tab to\n",
      "[nltk_data]     C:\\Users\\Admin\\AppData\\Roaming\\nltk_data...\n",
      "[nltk_data]   Package punkt_tab is already up-to-date!\n"
     ]
    },
    {
     "name": "stdout",
     "output_type": "stream",
     "text": [
      "Dataset Loaded. First few rows:\n",
      "                                               text1  \\\n",
      "0  broadband challenges tv viewing the number of ...   \n",
      "1  rap boss arrested over drug find rap mogul mar...   \n",
      "2  player burn-out worries robinson england coach...   \n",
      "3  hearts of oak 3-2 cotonsport hearts of oak set...   \n",
      "4  sir paul rocks super bowl crowds sir paul mcca...   \n",
      "\n",
      "                                               text2  \n",
      "0  gardener wins double in glasgow britain s jaso...  \n",
      "1  amnesty chief laments war failure the lack of ...  \n",
      "2  hanks greeted at wintry premiere hollywood sta...  \n",
      "3  redford s vision of sundance despite sporting ...  \n",
      "4  mauresmo opens with victory in la amelie maure...  \n"
     ]
    },
    {
     "name": "stderr",
     "output_type": "stream",
     "text": [
      "c:\\nlp\\venv\\Lib\\site-packages\\huggingface_hub\\file_download.py:142: UserWarning: `huggingface_hub` cache-system uses symlinks by default to efficiently store duplicated files but your machine does not support them in C:\\Users\\Admin\\.cache\\huggingface\\hub\\models--sentence-transformers--paraphrase-MiniLM-L6-v2. Caching files will still work but in a degraded version that might require more space on your disk. This warning can be disabled by setting the `HF_HUB_DISABLE_SYMLINKS_WARNING` environment variable. For more details, see https://huggingface.co/docs/huggingface_hub/how-to-cache#limitations.\n",
      "To support symlinks on Windows, you either need to activate Developer Mode or to run Python as an administrator. In order to activate developer mode, see this article: https://docs.microsoft.com/en-us/windows/apps/get-started/enable-your-device-for-development\n",
      "  warnings.warn(message)\n"
     ]
    },
    {
     "name": "stdout",
     "output_type": "stream",
     "text": [
      "Model and vectorizer saved successfully.\n",
      "First few results:\n",
      "                                               text1  \\\n",
      "0  broadband challenges tv viewing the number of ...   \n",
      "1  rap boss arrested over drug find rap mogul mar...   \n",
      "2  player burn-out worries robinson england coach...   \n",
      "3  hearts of oak 3-2 cotonsport hearts of oak set...   \n",
      "4  sir paul rocks super bowl crowds sir paul mcca...   \n",
      "\n",
      "                                               text2  similarity_score  \n",
      "0  gardener wins double in glasgow britain s jaso...          0.127056  \n",
      "1  amnesty chief laments war failure the lack of ...          0.089235  \n",
      "2  hanks greeted at wintry premiere hollywood sta...          0.136216  \n",
      "3  redford s vision of sundance despite sporting ...          0.083083  \n",
      "4  mauresmo opens with victory in la amelie maure...          0.121336  \n"
     ]
    }
   ],
   "source": [
    "\n",
    "import nltk\n",
    "import pandas as pd\n",
    "import numpy as np\n",
    "import re\n",
    "import string\n",
    "from nltk.corpus import stopwords\n",
    "from nltk.tokenize import word_tokenize\n",
    "from nltk.stem import WordNetLemmatizer\n",
    "from sklearn.feature_extraction.text import TfidfVectorizer\n",
    "from sentence_transformers import SentenceTransformer\n",
    "from sklearn.metrics.pairwise import cosine_similarity\n",
    "import pickle\n",
    "\n",
    "# Download necessary NLTK resources\n",
    "nltk.download('punkt')\n",
    "nltk.download('stopwords')\n",
    "nltk.download('wordnet')\n",
    "# Download the 'punkt_tab' resource explicitly\n",
    "nltk.download('punkt_tab') # This line ensures the 'punkt_tab' resource is downloaded\n",
    "\n",
    "# Load dataset\n",
    "file_path = r'C:\\nlp\\DataNeuron_Text_Similarity.csv'  # Update the correct path if needed\n",
    "try:\n",
    "    df = pd.read_csv(file_path)\n",
    "    assert {'text1', 'text2'}.issubset(df.columns), \"Dataset must contain 'text1' and 'text2' columns.\"\n",
    "except Exception as e:\n",
    "    print(f\"Error loading dataset: {e}\")\n",
    "    exit()\n",
    "\n",
    "print(\"Dataset Loaded. First few rows:\")\n",
    "print(df.head())\n",
    "\n",
    "# Text Cleaning Function\n",
    "lemmatizer = WordNetLemmatizer()\n",
    "stop_words = set(stopwords.words('english'))\n",
    "\n",
    "def clean_text(text):\n",
    "    if pd.isna(text): return \"\"  # Handle missing values\n",
    "    text = text.lower()\n",
    "    text = re.sub(f\"[{string.punctuation}]\", \"\", text)\n",
    "    tokens = word_tokenize(text)\n",
    "    tokens = [lemmatizer.lemmatize(word) for word in tokens if word not in stop_words]\n",
    "    return \" \".join(tokens)\n",
    "\n",
    "# Apply text cleaning\n",
    "df['clean_text1'] = df['text1'].apply(clean_text)\n",
    "df['clean_text2'] = df['text2'].apply(clean_text)\n",
    "\n",
    "# TF-IDF Vectorization & Cosine Similarity\n",
    "vectorizer = TfidfVectorizer()\n",
    "tfidf_matrix1 = vectorizer.fit_transform(df['clean_text1'])\n",
    "tfidf_matrix2 = vectorizer.transform(df['clean_text2'])\n",
    "\n",
    "tfidf_cosine_sim = np.array([\n",
    "    cosine_similarity(tfidf_matrix1[i], tfidf_matrix2[i])[0][0] \n",
    "    for i in range(tfidf_matrix1.shape[0])\n",
    "])\n",
    "\n",
    "# SBERT Model for Sentence Embeddings\n",
    "sbert_model = SentenceTransformer('paraphrase-MiniLM-L6-v2')\n",
    "embeddings1 = sbert_model.encode(df['clean_text1'].tolist(), convert_to_numpy=True)\n",
    "embeddings2 = sbert_model.encode(df['clean_text2'].tolist(), convert_to_numpy=True)\n",
    "\n",
    "sbert_cosine_sim = np.array([\n",
    "    cosine_similarity([embeddings1[i]], [embeddings2[i]])[0][0] \n",
    "    for i in range(len(embeddings1))\n",
    "])\n",
    "\n",
    "# Average Both Scores for Final Similarity\n",
    "df['similarity_score'] = (tfidf_cosine_sim + sbert_cosine_sim) / 2\n",
    "\n",
    "# Save Model & Vectorizer\n",
    "with open('similarity_model.pkl', 'wb') as f:\n",
    "    pickle.dump(sbert_model, f)\n",
    "\n",
    "with open('tfidf_vectorizer.pkl', 'wb') as f:\n",
    "    pickle.dump(vectorizer, f)\n",
    "\n",
    "print(\"Model and vectorizer saved successfully.\")\n",
    "print(\"First few results:\")\n",
    "print(df[['text1', 'text2', 'similarity_score']].head())"
   ]
  }
 ],
 "metadata": {
  "kernelspec": {
   "display_name": "venv",
   "language": "python",
   "name": "python3"
  },
  "language_info": {
   "codemirror_mode": {
    "name": "ipython",
    "version": 3
   },
   "file_extension": ".py",
   "mimetype": "text/x-python",
   "name": "python",
   "nbconvert_exporter": "python",
   "pygments_lexer": "ipython3",
   "version": "3.12.6"
  }
 },
 "nbformat": 4,
 "nbformat_minor": 2
}
